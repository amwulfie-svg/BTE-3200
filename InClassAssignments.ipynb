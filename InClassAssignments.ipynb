{
  "nbformat": 4,
  "nbformat_minor": 0,
  "metadata": {
    "colab": {
      "provenance": [],
      "authorship_tag": "ABX9TyMA9Qca1NCb66Rl5QpYVmPC",
      "include_colab_link": true
    },
    "kernelspec": {
      "name": "python3",
      "display_name": "Python 3"
    },
    "language_info": {
      "name": "python"
    }
  },
  "cells": [
    {
      "cell_type": "markdown",
      "metadata": {
        "id": "view-in-github",
        "colab_type": "text"
      },
      "source": [
        "<a href=\"https://colab.research.google.com/github/amwulfie-svg/BTE-3200/blob/main/InClassAssignments.ipynb\" target=\"_parent\"><img src=\"https://colab.research.google.com/assets/colab-badge.svg\" alt=\"Open In Colab\"/></a>"
      ]
    },
    {
      "cell_type": "code",
      "source": [
        "# Inputs\n",
        "sales = input(\"Enter sales ($): \")\n",
        "sales = float(sales)\n",
        "\n",
        "cogs_pct = input(\"Enter Cost of Goods (%): \")\n",
        "cogs_pct = float(cogs_pct)\n",
        "\n",
        "taxrate = input(\"Enter Tax Rate (%): \")\n",
        "taxrate = float(taxrate)\n",
        "\n",
        "# Processes: Calculate COGS and GP + Taxes and Net Income\n",
        "cogs = sales * cogs_pct / 100\n",
        "gp = sales - cogs\n",
        "\n",
        "Taxes = gp*taxrate/100\n",
        "Net_Income = (gp-Taxes)\n",
        "\n",
        "#Outputs: display cogs and gp + Net Income and Taxes\n",
        "print(f\"Cost of Goods sold: ${cogs}\")\n",
        "print(f\"Gross Profit: ${gp}\")\n",
        "\n",
        "print(Net_Income)\n",
        "print(Taxes)"
      ],
      "metadata": {
        "colab": {
          "base_uri": "https://localhost:8080/"
        },
        "id": "2hfiGlNqsZn0",
        "outputId": "6a815f6a-4865-4fd1-9ea5-3323a57a33d3"
      },
      "execution_count": null,
      "outputs": [
        {
          "output_type": "stream",
          "name": "stdout",
          "text": [
            "Enter sales ($): 12000\n",
            "Enter Cost of Goods (%): 40\n",
            "Enter Tax Rate (%): 30\n",
            "Cost of Goods sold: $4800.0\n",
            "Gross Profit: $7200.0\n",
            "5040.0\n",
            "2160.0\n"
          ]
        }
      ]
    },
    {
      "cell_type": "code",
      "source": [
        "# Inputs\n",
        "demand = int(input(\"Enter demand (units/year): \"))\n",
        "reorder = float(input(\"Enter reorder cost ($/order): \"))\n",
        "holding = float(input(\"Enter holding cost $/unit/year): \"))\n",
        "\n",
        "#Process\n",
        "eoq = (2 * demand * reorder / holding) ** (1/2)\n",
        "\n",
        "#Output\n",
        "print(f\"EOQ: {eoq} units\")\n"
      ],
      "metadata": {
        "colab": {
          "base_uri": "https://localhost:8080/"
        },
        "id": "vK01Yhvgn6H_",
        "outputId": "5bda9d3b-5a89-4077-c457-d4473e64d456"
      },
      "execution_count": null,
      "outputs": [
        {
          "output_type": "stream",
          "name": "stdout",
          "text": [
            "Enter demand (units/year): 1000\n",
            "Enter reorder cost ($/order): 50\n",
            "Enter holding cost $/unit/year): 10\n",
            "EOQ: 100.0 units\n"
          ]
        }
      ]
    },
    {
      "cell_type": "code",
      "source": [
        "n1 = float(input(\"Enter number 1: \"))\n",
        "n2 = float(input(\"Enter number 2: \"))\n",
        "op = input('Enter operator: +,-,*,/,//,,**,%')\n",
        "\n",
        "#Outputs:\n",
        "if op == \"+\":\n",
        "  res = n1 + n2\n",
        "elif op == \"-\":\n",
        "  res = n1 - n2\n",
        "elif op == \"*\":\n",
        "  res = n1 * n2\n",
        "elif op == \"/\":\n",
        "  res = n1 / n2\n",
        "elif op == \"//\":\n",
        "  res = n1 // n2\n",
        "elif op == \"**\":\n",
        "  res = n1 ** n2\n",
        "elif op == \"%\":\n",
        "  res = n1 % n2\n",
        "else:\n",
        "  res = None\n",
        "  print(\"Invalid Operator\")\n",
        "\n",
        "if res is not None:\n",
        "  print(f\"total = {res}\")"
      ],
      "metadata": {
        "colab": {
          "base_uri": "https://localhost:8080/"
        },
        "id": "dT2oK3y7JbIg",
        "outputId": "d341f223-fbc6-4bc6-8347-928149de43f8"
      },
      "execution_count": 11,
      "outputs": [
        {
          "output_type": "stream",
          "name": "stdout",
          "text": [
            "Enter number 1: 9\n",
            "Enter number 2: 8\n",
            "Enter operator: +,-,*,/,//,,**,%+\n",
            "total = 17.0\n"
          ]
        }
      ]
    },
    {
      "cell_type": "code",
      "source": [
        "for hour in range(1,9):\n",
        "  fee = 5 + 2.5 * hour\n",
        "\n",
        "  if fee < 10:\n",
        "    fee = 10.0\n",
        "  elif fee > 20:\n",
        "    fee = 20.0\n",
        "\n",
        "  print(hour, fee)"
      ],
      "metadata": {
        "colab": {
          "base_uri": "https://localhost:8080/"
        },
        "id": "0KO7YZfxNrL-",
        "outputId": "867a5dfb-d411-48ad-afd7-6179e57069eb"
      },
      "execution_count": 12,
      "outputs": [
        {
          "output_type": "stream",
          "name": "stdout",
          "text": [
            "1 10.0\n",
            "2 10.0\n",
            "3 12.5\n",
            "4 15.0\n",
            "5 17.5\n",
            "6 20.0\n",
            "7 20.0\n",
            "8 20.0\n"
          ]
        }
      ]
    },
    {
      "cell_type": "code",
      "source": [
        "print(\"Ad ($) Profit ($)\")\n",
        "for ad in range(0,201,25):\n",
        "  revenue = (20 + 2 * ad ** 0.5) * 10\n",
        "  costs = 200 + ad\n",
        "  profit = revenue - costs\n",
        "  print(f\"{ad},\\t {round(profit)}\")"
      ],
      "metadata": {
        "colab": {
          "base_uri": "https://localhost:8080/"
        },
        "id": "NUH8L29YtdDE",
        "outputId": "e6f8fa9f-6a78-40fc-e932-853d4984cdb8"
      },
      "execution_count": null,
      "outputs": [
        {
          "output_type": "stream",
          "name": "stdout",
          "text": [
            "Ad ($) Profit ($)\n",
            "0,\t 0\n",
            "25,\t 75\n",
            "50,\t 91\n",
            "75,\t 98\n",
            "100,\t 100\n",
            "125,\t 99\n",
            "150,\t 95\n",
            "175,\t 90\n",
            "200,\t 83\n"
          ]
        }
      ]
    }
  ]
}