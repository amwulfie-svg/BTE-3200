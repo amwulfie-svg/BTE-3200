{
  "nbformat": 4,
  "nbformat_minor": 0,
  "metadata": {
    "colab": {
      "provenance": [],
      "authorship_tag": "ABX9TyP07Zqdr3RRkNWZrmtsQuws",
      "include_colab_link": true
    },
    "kernelspec": {
      "name": "python3",
      "display_name": "Python 3"
    },
    "language_info": {
      "name": "python"
    }
  },
  "cells": [
    {
      "cell_type": "markdown",
      "metadata": {
        "id": "view-in-github",
        "colab_type": "text"
      },
      "source": [
        "<a href=\"https://colab.research.google.com/github/amwulfie-svg/BTE-3200/blob/main/InClassAssignments.ipynb\" target=\"_parent\"><img src=\"https://colab.research.google.com/assets/colab-badge.svg\" alt=\"Open In Colab\"/></a>"
      ]
    },
    {
      "cell_type": "code",
      "source": [
        "# Inputs\n",
        "sales = input(\"Enter sales ($): \")\n",
        "sales = float(sales)\n",
        "\n",
        "cogs_pct = input(\"Enter Cost of Goods (%): \")\n",
        "cogs_pct = float(cogs_pct)\n",
        "\n",
        "taxrate = input(\"Enter Tax Rate (%): \")\n",
        "taxrate = float(taxrate)\n",
        "\n",
        "# Processes: Calculate COGS and GP + Taxes and Net Income\n",
        "cogs = sales * cogs_pct / 100\n",
        "gp = sales - cogs\n",
        "\n",
        "Taxes = gp*taxrate/100\n",
        "Net_Income = (gp-Taxes)\n",
        "\n",
        "#Outputs: display cogs and gp + Net Income and Taxes\n",
        "print(f\"Cost of Goods sold: ${cogs}\")\n",
        "print(f\"Gross Profit: ${gp}\")\n",
        "\n",
        "print(Net_Income)\n",
        "print(Taxes)"
      ],
      "metadata": {
        "colab": {
          "base_uri": "https://localhost:8080/"
        },
        "id": "2hfiGlNqsZn0",
        "outputId": "6a815f6a-4865-4fd1-9ea5-3323a57a33d3"
      },
      "execution_count": null,
      "outputs": [
        {
          "output_type": "stream",
          "name": "stdout",
          "text": [
            "Enter sales ($): 12000\n",
            "Enter Cost of Goods (%): 40\n",
            "Enter Tax Rate (%): 30\n",
            "Cost of Goods sold: $4800.0\n",
            "Gross Profit: $7200.0\n",
            "5040.0\n",
            "2160.0\n"
          ]
        }
      ]
    },
    {
      "cell_type": "code",
      "source": [
        "# Inputs\n",
        "demand = int(input(\"Enter demand (units/year): \"))\n",
        "reorder = float(input(\"Enter reorder cost ($/order): \"))\n",
        "holding = float(input(\"Enter holding cost $/unit/year): \"))\n",
        "\n",
        "#Process\n",
        "eoq = (2 * demand * reorder / holding) ** (1/2)\n",
        "\n",
        "#Output\n",
        "print(f\"EOQ: {eoq} units\")\n"
      ],
      "metadata": {
        "colab": {
          "base_uri": "https://localhost:8080/"
        },
        "id": "vK01Yhvgn6H_",
        "outputId": "5bda9d3b-5a89-4077-c457-d4473e64d456"
      },
      "execution_count": 1,
      "outputs": [
        {
          "output_type": "stream",
          "name": "stdout",
          "text": [
            "Enter demand (units/year): 1000\n",
            "Enter reorder cost ($/order): 50\n",
            "Enter holding cost $/unit/year): 10\n",
            "EOQ: 100.0 units\n"
          ]
        }
      ]
    }
  ]
}